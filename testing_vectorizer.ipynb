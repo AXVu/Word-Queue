{
 "cells": [
  {
   "cell_type": "code",
   "execution_count": 1,
   "metadata": {},
   "outputs": [],
   "source": [
    "from gensim.models import Word2Vec\n",
    "from gensim import models\n",
    "import wikipedia\n",
    "from nltk import word_tokenize, sent_tokenize\n",
    "import re\n",
    "import torch\n",
    "from torch import nn\n",
    "import numpy as np\n",
    "from tqdm import tqdm\n",
    "import torch.utils.data as td\n",
    "import matplotlib.pyplot as plt"
   ]
  },
  {
   "cell_type": "code",
   "execution_count": 2,
   "metadata": {},
   "outputs": [],
   "source": [
    "def get_articles(search_terms, results, include_random=True):\n",
    "    article_text = {}\n",
    "    for term in search_terms:\n",
    "        articles = wikipedia.search(term,results=results)\n",
    "        for article in articles:\n",
    "            try:\n",
    "                article_text[article] = wikipedia.page(article, auto_suggest=False).content\n",
    "            except wikipedia.exceptions.DisambiguationError as e:\n",
    "                for a in e.options:\n",
    "                    try:\n",
    "                        article_text[a] = wikipedia.page(a, auto_suggest=False).content\n",
    "                        print(f\"accepted alt {a}\")\n",
    "                    except wikipedia.exceptions.DisambiguationError as e:\n",
    "                        print(f\"tossing alt {a}\")\n",
    "                    except wikipedia.exceptions.PageError as e:\n",
    "                        print(f\"tossing alt {a}\")\n",
    "            except wikipedia.exceptions.PageError as e:\n",
    "                print(f\"tossing {article} p\")\n",
    "    return article_text\n",
    "\n",
    "def tokenize_article(article_text):\n",
    "    article_text = article_text.lower()\n",
    "    article_text = re.sub(r'[^a-zA-Z\\s.]', '', article_text)\n",
    "    sentences = sent_tokenize(article_text)\n",
    "    tokenized_text = [word_tokenize(sentence) for sentence in sentences]\n",
    "    return tokenized_text\n",
    "\n",
    "def build_corpus(search_terms, results, include_random=True):\n",
    "    corpus = []\n",
    "    articles = get_articles(search_terms, results, include_random=include_random)\n",
    "    for title,content in articles.items():\n",
    "        corpus.extend(tokenize_article(content))\n",
    "    return corpus"
   ]
  },
  {
   "cell_type": "code",
   "execution_count": 3,
   "metadata": {},
   "outputs": [],
   "source": [
    "vectorizer = Word2Vec.load(\"./vectorizers/initial_model_128.model\")"
   ]
  },
  {
   "cell_type": "code",
   "execution_count": 4,
   "metadata": {},
   "outputs": [
    {
     "data": {
      "text/plain": [
       "255"
      ]
     },
     "execution_count": 4,
     "metadata": {},
     "output_type": "execute_result"
    }
   ],
   "source": [
    "vectorizer.wv.__len__()"
   ]
  },
  {
   "cell_type": "code",
   "execution_count": 41,
   "metadata": {},
   "outputs": [],
   "source": [
    "# MAKE SURE YOU ADD ANY LAYERS TO THE FORWARD FUNCTION\n",
    "# THE GOAL IS COLOR\n",
    "class Encoder(nn.Module):\n",
    "    def __init__(self, vec_size):\n",
    "        super().__init__()\n",
    "        self.dense1 = nn.Linear(vec_size, 256, bias=False)\n",
    "        self.dense2 = nn.Linear(256,768,bias=False)\n",
    "        # Try upscaling more linearly, but make sure it is a square number that can be upscaled by 2 to 128\n",
    "        \n",
    "        self.upsample1 = nn.ConvTranspose2d(3, 3, kernel_size = 4, stride=2, padding=1, bias=False)\n",
    "        self.conv1 = nn.Conv2d(3,3,3,padding=1, bias=False)\n",
    "        self.conv12 = nn.Conv2d(3,3,5,padding=2, bias=False)\n",
    "        self.upsample2 = nn.ConvTranspose2d(3, 3, kernel_size = 4, stride=2, padding=1, bias=False)\n",
    "        self.conv2 = nn.Conv2d(3,3,3,padding=1, bias=False)\n",
    "        self.conv22 = nn.Conv2d(3,3,5,padding=2, bias=False)\n",
    "        self.upsample3 = nn.ConvTranspose2d(3, 3, kernel_size = 4, stride=2, padding=1, bias=False)\n",
    "        self.conv3 = nn.Conv2d(3,3,3,padding=1, bias=False)\n",
    "        self.conv32 = nn.Conv2d(3,3,5,padding=2, bias=False)\n",
    "        # Try modifying the in/out channels and kernel sizes here. \n",
    "        # Can also add normal Conv layers between these, just make sure padding = kernel_size // 2\n",
    "        \n",
    "        self.mesh = nn.Conv2d(6, 3, 3, padding=1, bias=False)\n",
    "        # Try adding additional layers here, since this is the place where\n",
    "        # the current sentence image is merged with the word\n",
    "        # NEW: Skip connection layers to merge low- and high-level features\n",
    "        self.skip1 = nn.Conv2d(3, 3, 1, bias=False)  # Merges features after first upsample\n",
    "        self.skip2 = nn.Conv2d(3, 3, 1, bias=False)  # Merges features after second upsample\n",
    "        self.skip3 = nn.Conv2d(3, 3, 1, bias=False)  # Merges features after third upsample\n",
    "\n",
    "        # NEW: Edge enhancement layers to reduce blur\n",
    "        self.sharp1 = nn.Conv2d(3, 3, 3, padding=1, bias=False)\n",
    "        self.sharp2 = nn.Conv2d(3, 3, 3, padding=1, bias=False)\n",
    "        \n",
    "    def forward(self, simage, word_vec):\n",
    "        \n",
    "        x = self.dense1(word_vec)\n",
    "        x = nn.functional.silu(x)\n",
    "        \n",
    "        x = self.dense2(x)\n",
    "        x = nn.functional.silu(x)\n",
    "        \n",
    "        x = x.reshape((-1,3,16,16))\n",
    "        \n",
    "        x = self.upsample1(x)\n",
    "        x = self.sharp1(x) \n",
    "        x = nn.functional.silu(x)\n",
    "        skip_x1 = self.skip1(x)  # NEW: Capture details\n",
    "        x = self.conv1(x)\n",
    "        x = nn.functional.silu(x)\n",
    "        x = self.conv12(x)\n",
    "        x = nn.functional.silu(x)\n",
    "\n",
    "        x = self.upsample2(x)\n",
    "        x = self.sharp2(x) \n",
    "        x = nn.functional.silu(x)\n",
    "        skip_x2 = self.skip2(x)\n",
    "        x = self.conv2(x)\n",
    "        x = nn.functional.silu(x)\n",
    "        x = self.conv22(x)\n",
    "        x = nn.functional.silu(x)\n",
    "\n",
    "        x = self.upsample3(x)\n",
    "        x = nn.functional.silu(x) # <- This activation function should result in something image-like, silu isn't great\n",
    "        skip_x3 = self.skip3(x)\n",
    "        x = self.conv3(x)\n",
    "        x = nn.functional.silu(x)\n",
    "        x = self.conv32(x)\n",
    "        x = nn.functional.silu(x)\n",
    "\n",
    "        # Make modifications here too\n",
    "        # Upsample skip_x1 and skip_x2 to match x's dimensions\n",
    "        skip_x1_resized = nn.functional.interpolate(skip_x1, size=x.shape[2:], mode=\"bilinear\", align_corners=True)\n",
    "        skip_x2_resized = nn.functional.interpolate(skip_x2, size=x.shape[2:], mode=\"bilinear\", align_corners=True)\n",
    "\n",
    "        # Merge the resized skip connections with x\n",
    "        x = x + skip_x1_resized + skip_x2_resized + skip_x3\n",
    "        x = torch.concat((simage, x), dim=1)\n",
    "        return self.mesh(x)\n",
    "    \n",
    "class Decoder(nn.Module):\n",
    "    def __init__(self, vec_size, vocab_size):\n",
    "        super().__init__()\n",
    "        \n",
    "        self.conv1 = nn.Conv2d(3, 3, 3, padding=1, bias=False)\n",
    "        self.conv2 = nn.Conv2d(3, 3, 3, padding=1, bias=False)\n",
    "        self.conv3 = nn.Conv2d(3, 3, 3, padding=1, bias=False)\n",
    "        \n",
    "        self.pool1 = nn.MaxPool2d(2)\n",
    "        self.conv4 = nn.Conv2d(3, 3, 3, padding=1, bias=False)\n",
    "        self.pool2 = nn.MaxPool2d(2)\n",
    "        self.conv5 = nn.Conv2d(3,6,3,padding=1, bias=False)\n",
    "        self.pool3 = nn.MaxPool2d(2)\n",
    "        self.conv6 = nn.Conv2d(6,1,3,padding=1, bias=False)\n",
    "        \n",
    "        self.flatten = nn.Flatten()\n",
    "        self.classify1 = nn.Linear(256,256, bias=False)\n",
    "        self.classify2 = nn.Linear(256,vec_size, bias=False)\n",
    "        self.classify3 = nn.Linear(vec_size, vocab_size, bias=False)\n",
    "        \n",
    "        self.next1 = nn.Conv2d(3,16,3,padding=1, bias=False)\n",
    "        self.next2 = nn.Conv2d(16,16,3,padding=1, bias=False)\n",
    "        self.next3 = nn.Conv2d(16, 3, 1, bias=False)\n",
    "        \n",
    "        \n",
    "    def forward(self, input):\n",
    "        \n",
    "        skip = input\n",
    "        \n",
    "        x = self.conv1(input)\n",
    "        x = nn.functional.silu(x)\n",
    "        x = self.conv2(x)\n",
    "        x = nn.functional.silu(x)\n",
    "        x = self.conv3(x)\n",
    "        x = nn.functional.silu(x)\n",
    "        \n",
    "        c = self.pool1(x)\n",
    "        c = self.conv4(c)\n",
    "        c = nn.functional.silu(c)\n",
    "        c = self.pool2(c)\n",
    "        c = self.conv5(c)\n",
    "        c = nn.functional.silu(c)\n",
    "        c = self.pool3(c)\n",
    "        c = self.conv6(c)\n",
    "        c = nn.functional.silu(c)\n",
    "\n",
    "        c = self.flatten(c)\n",
    "        #c = torch.concat((c, context), dim=1)\n",
    "        c = self.classify1(c)\n",
    "        c = nn.functional.silu(c)\n",
    "        co = self.classify2(c)\n",
    "        c = nn.functional.silu(co)\n",
    "        c = self.classify3(c)\n",
    "        \n",
    "        n = self.next1(x)\n",
    "        n = nn.functional.silu(n)\n",
    "        n = self.next2(n)\n",
    "        n = nn.functional.silu(n)\n",
    "        #context = n.clone()\n",
    "        n = self.next3(n)\n",
    "        n = x - n\n",
    "        \n",
    "        return n, c"
   ]
  },
  {
   "cell_type": "code",
   "execution_count": 42,
   "metadata": {},
   "outputs": [],
   "source": [
    "def enc_from_vec(encoder, sent_vec):\n",
    "    simage = torch.zeros(size=(1,3,128,128))\n",
    "    for word in sent_vec:\n",
    "        simage = encoder(simage, word)\n",
    "    return simage\n",
    "\n",
    "def dec_from_simage(decoder, simage):\n",
    "    outs = []\n",
    "    for i in range(10):\n",
    "        simage, word = decoder(simage)\n",
    "        outs.append(word)\n",
    "    return outs\n",
    "\n",
    "def words_from_idx(vectorizer, sent):\n",
    "    outs = []\n",
    "    for word in sent:\n",
    "        outs.append(vectorizer.wv.index_to_key[word])\n",
    "    return outs"
   ]
  },
  {
   "cell_type": "code",
   "execution_count": 22,
   "metadata": {},
   "outputs": [
    {
     "name": "stderr",
     "output_type": "stream",
     "text": [
      "c:\\Users\\Alexander\\Documents\\Dreamer\\.conda\\Lib\\site-packages\\wikipedia\\wikipedia.py:389: GuessedAtParserWarning: No parser was explicitly specified, so I'm using the best available HTML parser for this system (\"html.parser\"). This usually isn't a problem, but if you run this code on another system, or in a different virtual environment, it may use a different parser and behave differently.\n",
      "\n",
      "The code that caused this warning is on line 389 of the file c:\\Users\\Alexander\\Documents\\Dreamer\\.conda\\Lib\\site-packages\\wikipedia\\wikipedia.py. To get rid of this warning, pass the additional argument 'features=\"html.parser\"' to the BeautifulSoup constructor.\n",
      "\n",
      "  lis = BeautifulSoup(html).find_all('li')\n"
     ]
    },
    {
     "name": "stdout",
     "output_type": "stream",
     "text": [
      "accepted alt Graffiti\n",
      "accepted alt Tony Namate\n",
      "accepted alt The Writing on the Wall (film)\n",
      "tossing alt \"The Writing on the Wall\" (Yes Minister)\n",
      "tossing alt The Writing on the Wall (1996 film)\n",
      "tossing alt \"The Writing on the Wall\" (Agents of S.H.I.E.L.D.)\n",
      "tossing alt episode of The Apprentice 3\n",
      "accepted alt Indigo Books and Music\n",
      "accepted alt The Transylvanian Trilogy\n",
      "accepted alt Phillip Whitehead\n",
      "accepted alt Guy N. Smith\n",
      "accepted alt Sundararajan Padmanabhan\n",
      "accepted alt Lynne Sharon Schwartz\n",
      "accepted alt Will Hutton\n",
      "accepted alt Writing on the Wall (band)\n",
      "accepted alt The Writing's on the Wall\n",
      "accepted alt Writing on the Wall (Bucks Fizz album)\n",
      "accepted alt One Way System\n",
      "accepted alt Desmond Dekker\n",
      "accepted alt Jill Phillips\n",
      "accepted alt Gucci Mane\n",
      "tossing alt \"The Writing on the Wall\" (Adam Wade song)\n",
      "tossing alt \"Writing's on the Wall\" (George Harrison song)\n",
      "tossing alt \"The Writing's on the Wall\" (OK Go song)\n",
      "tossing alt \"Writing's on the Wall\" (Sam Smith song)\n",
      "tossing alt \"Writing on the Wall\" (French Montana song)\n",
      "tossing alt \"The Writing on the Wall\" (Iron Maiden song)\n",
      "accepted alt Desmond Dekker\n",
      "accepted alt Jim Reeves\n",
      "accepted alt Seven Separate Fools\n",
      "tossing alt Free-for-All\n",
      "accepted alt Eddie and the Hot Rods\n",
      "accepted alt A Crazy Steal\n",
      "tossing alt Stateless\n",
      "accepted alt Dream Police\n",
      "tossing alt Breaking Glass\n",
      "accepted alt RIOT 111\n",
      "tossing alt Touch Sensitive\n",
      "accepted alt The Mystery of Edwin Drood\n",
      "accepted alt System of Survival\n",
      "accepted alt One Woman Man\n",
      "accepted alt One 2 Many\n",
      "accepted alt Iced Earth\n",
      "tossing alt Heart and Soul\n",
      "accepted alt Death Row\n",
      "accepted alt Super Ape Inna Jungle\n",
      "tossing alt Carved in Stone\n",
      "accepted alt Shadow of the Moon\n",
      "accepted alt A Blessing in Disguise\n",
      "accepted alt Seven Circles\n",
      "accepted alt Side One\n",
      "accepted alt Define the Great Line\n",
      "accepted alt The Defamation of Strickland Banks\n",
      "accepted alt Hard Times and Nursery Rhymes\n",
      "tossing alt Ire\n",
      "accepted alt Simplicity\n",
      "accepted alt The Last Hero\n",
      "accepted alt Invaders Must Die\n",
      "corpus built\n"
     ]
    }
   ],
   "source": [
    "corpus = build_corpus([\"philosophy\", \"government\", \"cooking\", \"writing\"], 5)\n",
    "print(\"corpus built\")"
   ]
  },
  {
   "cell_type": "code",
   "execution_count": 23,
   "metadata": {},
   "outputs": [],
   "source": [
    "import random\n",
    "enc_corpus = [[torch.from_numpy(vectorizer.wv[w]) for w in s if w in vectorizer.wv.key_to_index] for s in corpus]\n",
    "enc_corpus = [e for e in enc_corpus if len(e) > 1]\n",
    "w_corpus = [[w for w in s if w in vectorizer.wv.key_to_index] for s in corpus]\n",
    "w_corpus = [w for w in w_corpus if len(w) >  1]\n",
    "temp = list(zip(enc_corpus, w_corpus))  # Pair the elements\n",
    "random.shuffle(temp)  # Shuffle the pairs\n",
    "enc_corpus, w_corpus = zip(*temp)\n",
    "enc_corpus = enc_corpus[:500]\n",
    "w_corpus = w_corpus[:500]"
   ]
  },
  {
   "cell_type": "code",
   "execution_count": 24,
   "metadata": {},
   "outputs": [],
   "source": [
    "vocab_size = len(vectorizer.wv)"
   ]
  },
  {
   "cell_type": "code",
   "execution_count": 43,
   "metadata": {},
   "outputs": [],
   "source": [
    "encode = Encoder(128)\n",
    "decode = Decoder(128,vocab_size)\n",
    "s = nn.Sequential(encode,decode)"
   ]
  },
  {
   "cell_type": "code",
   "execution_count": 44,
   "metadata": {},
   "outputs": [
    {
     "name": "stdout",
     "output_type": "stream",
     "text": [
      "torch.Size([1, 3, 128, 128]) torch.Size([1, 255])\n"
     ]
    }
   ],
   "source": [
    "a = encode(torch.from_numpy(np.zeros((1,3,128,128), dtype=np.float32)), torch.from_numpy(vectorizer.wv[\"example\"]))\n",
    "b = decode(a)#, torch.zeros((1,128)))\n",
    "print(b[0].shape, b[1].shape)"
   ]
  },
  {
   "cell_type": "code",
   "execution_count": 27,
   "metadata": {},
   "outputs": [
    {
     "data": {
      "text/plain": [
       "tensor(8.4480e-18, grad_fn=<VarBackward0>)"
      ]
     },
     "execution_count": 27,
     "metadata": {},
     "output_type": "execute_result"
    }
   ],
   "source": [
    "b[1].var()"
   ]
  },
  {
   "cell_type": "code",
   "execution_count": 28,
   "metadata": {},
   "outputs": [
    {
     "data": {
      "text/plain": [
       "365345"
      ]
     },
     "execution_count": 28,
     "metadata": {},
     "output_type": "execute_result"
    }
   ],
   "source": [
    "sum(p.numel() for p in s.parameters())"
   ]
  },
  {
   "cell_type": "code",
   "execution_count": 45,
   "metadata": {},
   "outputs": [],
   "source": [
    "crit_word = nn.CrossEntropyLoss()\n",
    "crit_sent = nn.MSELoss()\n",
    "optim = torch.optim.Adam(s.parameters())"
   ]
  },
  {
   "cell_type": "code",
   "execution_count": 46,
   "metadata": {},
   "outputs": [
    {
     "data": {
      "text/plain": [
       "255"
      ]
     },
     "execution_count": 46,
     "metadata": {},
     "output_type": "execute_result"
    }
   ],
   "source": [
    "w_c = vectorizer.wv.index_to_key.__len__()\n",
    "w_c"
   ]
  },
  {
   "cell_type": "code",
   "execution_count": 47,
   "metadata": {},
   "outputs": [],
   "source": [
    "class WordDataset(td.Dataset):\n",
    "    \n",
    "    def __init__(self, vectorizer):\n",
    "        super().__init__()\n",
    "        self.vocab_count = len(vectorizer.wv.index_to_key)\n",
    "        self.v = vectorizer\n",
    "        \n",
    "    def __getitem__(self, index):\n",
    "        return torch.tensor(self.v.wv[index]), torch.tensor(index)\n",
    "    \n",
    "    def __len__(self):\n",
    "        return self.vocab_count\n",
    "    \n",
    "class SentenceDataset(td.Dataset):\n",
    "    \n",
    "    def __init__(self, vectorizer, sentence_len, num_sents):\n",
    "        super().__init__()\n",
    "        self.vocab_count = len(vectorizer.wv.index_to_key)\n",
    "        self.num_sents = num_sents\n",
    "        self.sentence_len = sentence_len\n",
    "        self.v = vectorizer\n",
    "        \n",
    "    def __getitem__(self, index):\n",
    "        idx = np.random.randint(0,self.vocab_count, size=(self.sentence_len,))\n",
    "        words = np.array([self.v.wv[id] for id in idx])\n",
    "        return torch.tensor(words), torch.tensor(idx).to(torch.long)\n",
    "\n",
    "    def __len__(self):\n",
    "        return self.num_sents\n",
    "    \n",
    "batch_size = 16\n",
    "word_dataset = WordDataset(vectorizer)\n",
    "word_loader = td.DataLoader(word_dataset, batch_size=batch_size, shuffle=True)\n",
    "\n",
    "sent_dataset = SentenceDataset(vectorizer, 5, 100)\n",
    "sent_loader = td.DataLoader(sent_dataset, batch_size=batch_size, shuffle=True)\n",
    "\n",
    "mid_dataset = SentenceDataset(vectorizer, 10, 100)\n",
    "mid_loader = td.DataLoader(sent_dataset, batch_size=batch_size, shuffle=True)\n",
    "\n",
    "long_dataset = SentenceDataset(vectorizer, 15, 100)\n",
    "long_loader = td.DataLoader(sent_dataset, batch_size=batch_size, shuffle=True)"
   ]
  },
  {
   "cell_type": "code",
   "execution_count": 48,
   "metadata": {},
   "outputs": [
    {
     "name": "stderr",
     "output_type": "stream",
     "text": [
      "100%|██████████| 35/35 [01:49<00:00,  3.13s/it]\n"
     ]
    }
   ],
   "source": [
    "epochs = 35\n",
    "losses = []\n",
    "word_acc = []\n",
    "for e in tqdm(range(epochs)):\n",
    "    epoch_loss = 0\n",
    "    w_correct = 0\n",
    "    for w, l in word_loader:\n",
    "        optim.zero_grad()\n",
    "        loss = 0\n",
    "        simage = torch.zeros(size=(len(l),3,128,128))\n",
    "        f = simage.clone()\n",
    "        simage = encode(simage, w)\n",
    "        simage, d = decode(simage)\n",
    "        loss = loss + crit_word(d, l)\n",
    "        loss = loss + crit_sent(simage, f)\n",
    "        epoch_loss += loss.item()\n",
    "        w_correct += sum([1 for a,label in zip(d.argmax(dim=1), l) if a == label])\n",
    "        loss.backward()\n",
    "        optim.step()\n",
    "    word_acc.append(w_correct / 255)\n",
    "    losses.append(epoch_loss)"
   ]
  },
  {
   "cell_type": "code",
   "execution_count": 50,
   "metadata": {},
   "outputs": [
    {
     "data": {
      "text/plain": [
       "[<matplotlib.lines.Line2D at 0x21f4c44d590>]"
      ]
     },
     "execution_count": 50,
     "metadata": {},
     "output_type": "execute_result"
    },
    {
     "data": {
      "image/png": "[encoded data removed]",
      "text/plain": [
       "<Figure size 640x480 with 1 Axes>"
      ]
     },
     "metadata": {},
     "output_type": "display_data"
    }
   ],
   "source": [
    "plt.plot(word_acc)"
   ]
  },
  {
   "cell_type": "code",
   "execution_count": null,
   "metadata": {},
   "outputs": [],
   "source": [
    "epochs = 100\n",
    "losses = []\n",
    "word_loss = []\n",
    "for e in tqdm(range(epochs)):\n",
    "    epoch_loss = 0\n",
    "    w_correct = 0\n",
    "    for sentence, label in long_loader:\n",
    "        optim.zero_grad()\n",
    "        loss = 0\n",
    "        simage = torch.zeros(size=(sentence.shape[0],3,128,128))\n",
    "        f = simage.clone()\n",
    "        for s in range(sentence.shape[1]):\n",
    "            simage = encode(simage, sentence[:,s])\n",
    "        for l in range(label.shape[1]):\n",
    "            simage, d = decode(simage)\n",
    "            loss = loss + crit_word(d, label[:,l]) * (5 if l in [4,5,6,7,8] else 1)\n",
    "        w_correct += loss.item()\n",
    "        loss = loss + crit_sent(simage, f)\n",
    "        epoch_loss += loss.item()\n",
    "        loss.backward()\n",
    "        optim.step()\n",
    "    word_loss.append(w_correct)\n",
    "    losses.append(epoch_loss)"
   ]
  },
  {
   "cell_type": "code",
   "execution_count": null,
   "metadata": {},
   "outputs": [],
   "source": [
    "plt.plot(word_loss)\n",
    "plt.show()\n",
    "plt.plot(np.array(losses) - np.array(word_loss))\n",
    "plt.show()"
   ]
  },
  {
   "cell_type": "code",
   "execution_count": 24,
   "metadata": {},
   "outputs": [
    {
     "name": "stderr",
     "output_type": "stream",
     "text": [
      "100%|██████████| 25/25 [17:26<00:00, 41.86s/it]\n"
     ]
    }
   ],
   "source": [
    "epochs = 25\n",
    "losses = []\n",
    "word_loss = []\n",
    "for e in tqdm(range(epochs)):\n",
    "    # Initialize loss and correct\n",
    "    epoch_loss = 0\n",
    "    w_correct = 0\n",
    "    # Train over long sentences\n",
    "    for sentence, label in long_loader:\n",
    "        optim.zero_grad()\n",
    "        loss = 0\n",
    "        simage = torch.zeros(size=(sentence.shape[0],3,128,128))\n",
    "        f = simage.clone()\n",
    "        for s in range(sentence.shape[1]):\n",
    "            simage = encode(simage, sentence[:,s])\n",
    "        for l in range(label.shape[1]):\n",
    "            simage, d = decode(simage)\n",
    "            loss = loss + crit_word(d, label[:,l]) * (3 if l in [0,14] else 0.6)\n",
    "        w_correct += loss.item()\n",
    "        loss = loss + crit_sent(simage, f) * 0.6\n",
    "        epoch_loss += loss.item()\n",
    "        loss.backward()\n",
    "        optim.step()\n",
    "    # Train over medium Sentences\n",
    "    for sentence, label in mid_loader:\n",
    "        optim.zero_grad()\n",
    "        loss = 0\n",
    "        simage = torch.zeros(size=(sentence.shape[0],3,128,128))\n",
    "        f = simage.clone()\n",
    "        for s in range(sentence.shape[1]):\n",
    "            simage = encode(simage, sentence[:,s])\n",
    "        for l in range(label.shape[1]):\n",
    "            simage, d = decode(simage)\n",
    "            loss = loss + crit_word(d, label[:,l]) * (3 if l in [0,9] else 0.6)\n",
    "        w_correct += loss.item()\n",
    "        loss = loss + crit_sent(simage, f) * 0.6\n",
    "        epoch_loss += loss.item()\n",
    "        loss.backward()\n",
    "        optim.step()\n",
    "    # Train over short sentences\n",
    "    for sentence, label in sent_loader:\n",
    "        optim.zero_grad()\n",
    "        loss = 0\n",
    "        simage = torch.zeros(size=(sentence.shape[0],3,128,128))\n",
    "        f = simage.clone()\n",
    "        for s in range(sentence.shape[1]):\n",
    "            simage = encode(simage, sentence[:,s])\n",
    "        for l in range(label.shape[1]):\n",
    "            simage, d = decode(simage)\n",
    "            loss = loss + crit_word(d, label[:,l]) * (3 if l in [0,4] else 0.6)\n",
    "        w_correct += loss.item()\n",
    "        loss = loss + crit_sent(simage, f) * 0.6\n",
    "        epoch_loss += loss.item()\n",
    "        loss.backward()\n",
    "        optim.step()\n",
    "    word_loss.append(w_correct)\n",
    "    losses.append(epoch_loss)"
   ]
  },
  {
   "cell_type": "code",
   "execution_count": 25,
   "metadata": {},
   "outputs": [
    {
     "data": {
      "image/png": "[encoded data removed]",
      "text/plain": [
       "<Figure size 640x480 with 1 Axes>"
      ]
     },
     "metadata": {},
     "output_type": "display_data"
    },
    {
     "data": {
      "image/png": "[encoded data removed]",
      "text/plain": [
       "<Figure size 640x480 with 1 Axes>"
      ]
     },
     "metadata": {},
     "output_type": "display_data"
    }
   ],
   "source": [
    "plt.plot(word_loss)\n",
    "plt.show()\n",
    "plt.plot(np.array(losses) - np.array(word_loss))\n",
    "plt.show()"
   ]
  },
  {
   "cell_type": "code",
   "execution_count": null,
   "metadata": {},
   "outputs": [],
   "source": [
    "## Training Loop ##\n",
    "for wsen,sentence in tqdm(list(zip(w_corpus,enc_corpus))):\n",
    "    optim.zero_grad()\n",
    "    f = torch.normal(mean=0,std=0.4,size=(1,3,128,128))\n",
    "    simage = f.clone()\n",
    "    for w in sentence:\n",
    "        simage = encode(simage, w)\n",
    "    outputs = []\n",
    "    loss = torch.tensor(0.0, requires_grad=True, device=simage.device)\n",
    "    #context = torch.zeros((1,128), device=simage.device)\n",
    "    for i,w in enumerate(sentence):\n",
    "        simage, out = decode(simage)\n",
    "        outputs.append(vectorizer.wv.index_to_key[out.argmax()])\n",
    "        w_idx = vectorizer.wv.get_index(wsen[i])\n",
    "        if len(outputs) > 1 and outputs[-1] == outputs[-2]:\n",
    "            loss = loss - crit_word(out,out.argmax().unsqueeze(0))\n",
    "        else:\n",
    "            loss = loss + crit_word(out,torch.tensor([w_idx]))\n",
    "    print(outputs)\n",
    "    loss = loss / len(sentence)\n",
    "    loss.backward()\n",
    "    optim.step()"
   ]
  },
  {
   "cell_type": "code",
   "execution_count": 21,
   "metadata": {},
   "outputs": [
    {
     "data": {
      "text/plain": [
       "['as',\n",
       " 'also',\n",
       " 'have',\n",
       " 'some',\n",
       " 'for',\n",
       " 'the',\n",
       " 'work',\n",
       " 'of',\n",
       " 'the',\n",
       " 'its',\n",
       " 'and',\n",
       " 'with',\n",
       " 'other',\n",
       " 'government',\n",
       " '.']"
      ]
     },
     "metadata": {},
     "output_type": "display_data"
    },
    {
     "name": "stdout",
     "output_type": "stream",
     "text": [
      "references\n",
      "many\n",
      "many\n",
      "many\n",
      "many\n",
      "many\n",
      "many\n",
      "many\n",
      "many\n",
      "many\n",
      "many\n",
      "many\n",
      "many\n",
      "many\n",
      "many\n",
      "many\n",
      "many\n",
      "many\n",
      "many\n",
      "many\n"
     ]
    }
   ],
   "source": [
    "s = 4\n",
    "encoded = enc_from_vec(encode, enc_corpus[s])\n",
    "simage = encoded.clone()\n",
    "display(w_corpus[s])\n",
    "for i in range(20):\n",
    "    simage, out = decode(simage)\n",
    "    print(vectorizer.wv.index_to_key[out.argmax()])"
   ]
  },
  {
   "cell_type": "code",
   "execution_count": null,
   "metadata": {},
   "outputs": [],
   "source": [
    "torch.save(decode,\"decoder2.pt\")\n",
    "torch.save(encode,\"encoder2.pt\")"
   ]
  }
 ],
 "metadata": {
  "kernelspec": {
   "display_name": "Python 3",
   "language": "python",
   "name": "python3"
  },
  "language_info": {
   "codemirror_mode": {
    "name": "ipython",
    "version": 3
   },
   "file_extension": ".py",
   "mimetype": "text/x-python",
   "name": "python",
   "nbconvert_exporter": "python",
   "pygments_lexer": "ipython3",
   "version": "3.11.11"
  }
 },
 "nbformat": 4,
 "nbformat_minor": 2
}
